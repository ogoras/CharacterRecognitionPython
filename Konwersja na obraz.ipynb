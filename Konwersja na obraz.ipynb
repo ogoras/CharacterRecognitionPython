{
 "cells": [
  {
   "cell_type": "code",
   "execution_count": 7,
   "metadata": {},
   "outputs": [],
   "source": [
    "import os\n",
    "import math\n",
    "import numpy as np\n",
    "from skimage import io\n",
    "import matplotlib.pyplot as plt\n",
    "import numpy as np\n",
    "from skimage import io\n",
    "from PIL import Image\n",
    "\n",
    "#parametry\n",
    "\n",
    "imside = 28\n",
    "padding = 3\n",
    "brush_size = 2\n",
    "factor = -(2.0/brush_size)**2\n",
    "\n",
    "root_dir = \"data/Contours/\"\n",
    "out_dir = \"data/images/\""
   ]
  },
  {
   "cell_type": "code",
   "execution_count": 8,
   "metadata": {},
   "outputs": [],
   "source": [
    "def draw_pixel(img, x, y, val):\n",
    "    if (x < 0 or x >= imside or y <0 or y >= imside):\n",
    "        return\n",
    "    if (255 - img[x][y] > val):\n",
    "        img[x][y] += val\n",
    "    else:\n",
    "        img[x][y] = 255\n",
    "\n",
    "def draw_dot(img, x, y):\n",
    "    #draw_pixel(img, x, y, 255)\n",
    "    for ox in range(-brush_size,brush_size+1):\n",
    "        for oy in range(-brush_size,brush_size+1):\n",
    "            draw_pixel(img, x+ox, y+oy, 20*math.exp( factor * (ox**2 + oy**2)))"
   ]
  },
  {
   "cell_type": "code",
   "execution_count": 9,
   "metadata": {},
   "outputs": [],
   "source": [
    "# find the a & b points\n",
    "def get_bezier_coef(points):\n",
    "    # since the formulas work given that we have n+1 points\n",
    "    # then n must be this:\n",
    "    n = len(points) - 1\n",
    "\n",
    "    # build coefficents matrix\n",
    "    C = 4 * np.identity(n)\n",
    "    np.fill_diagonal(C[1:], 1)\n",
    "    np.fill_diagonal(C[:, 1:], 1)\n",
    "    C[0, 0] = 2\n",
    "    C[n - 1, n - 1] = 7\n",
    "    C[n - 1, n - 2] = 2\n",
    "\n",
    "    # build points vector\n",
    "    P = [2 * (2 * points[i] + points[i + 1]) for i in range(n)]\n",
    "    P[0] = points[0] + 2 * points[1]\n",
    "    P[n - 1] = 8 * points[n - 1] + points[n]\n",
    "\n",
    "    # solve system, find a & b\n",
    "    A = np.linalg.solve(C, P)\n",
    "    B = [0] * n\n",
    "    for i in range(n - 1):\n",
    "        B[i] = 2 * points[i + 1] - A[i + 1]\n",
    "    B[n - 1] = (A[n - 1] + points[n]) / 2\n",
    "\n",
    "    return A, B\n",
    "\n",
    "# returns the general Bezier cubic formula given 4 control points\n",
    "def get_cubic(a, b, c, d):\n",
    "    return lambda t: np.power(1 - t, 3) * a + 3 * np.power(1 - t, 2) * t * b + 3 * (1 - t) * np.power(t, 2) * c + np.power(t, 3) * d\n",
    "\n",
    "# return one cubic curve for each consecutive points\n",
    "def get_bezier_cubic(points):\n",
    "    A, B = get_bezier_coef(points)\n",
    "    return [\n",
    "        get_cubic(points[i], A[i], B[i], points[i + 1])\n",
    "        for i in range(len(points) - 1)\n",
    "    ]\n",
    "\n",
    "# evalute each cubic curve on the range [0, 1] sliced in n points\n",
    "def evaluate_bezier(points, n):\n",
    "    curves = get_bezier_cubic(points)\n",
    "    return np.array([fun(t) for fun in curves for t in np.linspace(0, 1, n)])"
   ]
  },
  {
   "cell_type": "code",
   "execution_count": 10,
   "metadata": {},
   "outputs": [],
   "source": [
    "def read_dir():\n",
    "    \n",
    "    vectors = []\n",
    "    maximum_xs = []\n",
    "    maximum_ys = []\n",
    "    minimum_xs = []\n",
    "    minimum_ys = []\n",
    "    i = 0\n",
    "    \n",
    "    for filename in os.listdir(directory):\n",
    "        vectors.append([])\n",
    "        f = open(directory + \"/\" + filename, \"r\")\n",
    "        maximum_xs.append(-math.inf)\n",
    "        maximum_ys.append(-math.inf)\n",
    "        minimum_xs.append(math.inf)\n",
    "        minimum_ys.append(math.inf)\n",
    "    \n",
    "        for line in f.readlines():\n",
    "            line = line[:-1]\n",
    "            coords = line.split(' ')\n",
    "#transformacje związane z obróceniem tablicy w środowisku (powinno być trochę bardziej elegancko :?)\n",
    "            vectors[i].append([float(coords[0]), -float(coords[1])])\n",
    "            if (maximum_xs[i] < float(coords[0])):\n",
    "                maximum_xs[i] = float(coords[0])\n",
    "            if (maximum_ys[i] < -float(coords[1])):\n",
    "                maximum_ys[i] = -float(coords[1])\n",
    "            if (minimum_xs[i] > float(coords[0])):\n",
    "                minimum_xs[i] = float(coords[0])\n",
    "            if (minimum_ys[i] > -float(coords[1])):\n",
    "                minimum_ys[i] = -float(coords[1])\n",
    "        i = i + 1\n",
    "    \n",
    "    num_of_pics = i\n",
    "    \n",
    "    imrange = imside - 2*padding\n",
    "    i = 0\n",
    "    norms = []\n",
    "\n",
    "    for v in vectors:\n",
    "        range_x = maximum_xs[i] - minimum_xs[i]\n",
    "        range_y = maximum_ys[i] - minimum_ys[i]\n",
    "\n",
    "        maxrange = max(range_x , range_y)\n",
    "        if maxrange == 0:\n",
    "            norms.append([[imside/2, imside/2]])\n",
    "            i += 1\n",
    "            continue\n",
    "        ratio =  min(range_x, range_y) / maxrange\n",
    "    \n",
    "        if (range_x > range_y):\n",
    "            norms.append([[(vector[0]-minimum_xs[i])*imrange/maxrange + padding,\n",
    "                            (vector[1]-minimum_ys[i])*imrange/maxrange + padding + imrange*(1-ratio)/2] for vector in v])\n",
    "        else:\n",
    "            norms.append([[(vector[0]-minimum_xs[i])*imrange/maxrange + padding + imrange*(1-ratio)/2,\n",
    "                            (vector[1]-minimum_ys[i])*imrange/maxrange + padding] for vector in v])\n",
    "        \n",
    "        i = i + 1\n",
    "\n",
    "    imgs = []\n",
    "\n",
    "    fig = plt.figure(figsize=(30, 8*num_of_pics))\n",
    "    i = 1\n",
    "        \n",
    "    for norm in norms:\n",
    "        img = 255 * np.zeros([imside,imside], dtype=np.uint8)\n",
    "    \n",
    "        if (len(norm) == 1):\n",
    "            draw_dot(img, int(norm[0][0]), int(norm[0][1]))\n",
    "        else:    \n",
    "            path = evaluate_bezier(np.array(norm), 50)\n",
    "            px, py = path[:,0], path[:,1]\n",
    "            n = len(px)\n",
    "            for index in range(n):\n",
    "                draw_dot(img, int(px[index]), int(py[index]))\n",
    "            \n",
    "        plot = fig.add_subplot(num_of_pics,5,i)\n",
    "        plot.imshow(img,cmap='Greys')\n",
    "        imgs.append(img)\n",
    "        i += 1\n",
    "\n",
    "    plt.show()"
   ]
  },
  {
   "cell_type": "code",
   "execution_count": 5,
   "metadata": {},
   "outputs": [
    {
     "ename": "NameError",
     "evalue": "name 'num_of_pics' is not defined",
     "output_type": "error",
     "traceback": [
      "\u001b[1;31m---------------------------------------------------------------------------\u001b[0m",
      "\u001b[1;31mNameError\u001b[0m                                 Traceback (most recent call last)",
      "\u001b[1;32m<ipython-input-5-2bd77161af35>\u001b[0m in \u001b[0;36m<module>\u001b[1;34m\u001b[0m\n\u001b[1;32m----> 1\u001b[1;33m \u001b[0mnum_of_pics\u001b[0m\u001b[1;33m\u001b[0m\u001b[1;33m\u001b[0m\u001b[0m\n\u001b[0m",
      "\u001b[1;31mNameError\u001b[0m: name 'num_of_pics' is not defined"
     ]
    }
   ],
   "source": [
    "num_of_pics"
   ]
  },
  {
   "cell_type": "code",
   "execution_count": 9,
   "metadata": {},
   "outputs": [
    {
     "name": "stdout",
     "output_type": "stream",
     "text": [
      "Directory 0 finished conversion.\n",
      "Directory 1 finished conversion.\n",
      "Directory 2 finished conversion.\n",
      "Directory 3 finished conversion.\n",
      "Directory 4 finished conversion.\n",
      "Directory 5 finished conversion.\n",
      "Directory 6 finished conversion.\n",
      "Directory 7 finished conversion.\n",
      "Directory 8 finished conversion.\n",
      "Directory 9 finished conversion.\n"
     ]
    },
    {
     "data": {
      "image/png": "[encoded data removed]",
      "text/plain": [
       "<Figure size 432x288 with 1 Axes>"
      ]
     },
     "metadata": {
      "needs_background": "light"
     },
     "output_type": "display_data"
    }
   ],
   "source": [
    "for dirname in os.listdir(root_dir):\n",
    "    if dirname[0] == '.':\n",
    "        continue\n",
    "    directory = root_dir + dirname\n",
    "    directory2 = out_dir + dirname\n",
    "    try:\n",
    "        os.makedirs(directory2)\n",
    "    except FileExistsError:\n",
    "        pass\n",
    "    for filename in os.listdir(directory):\n",
    "        out_filename = directory2 + \"/\" + filename\n",
    "        filename = directory + \"/\" + filename\n",
    "        f = open(filename, \"r\")\n",
    "        \n",
    "        strokes = []\n",
    "        strokes.append([])\n",
    "        maximum_x = (-math.inf)\n",
    "        maximum_y = (-math.inf)\n",
    "        minimum_x = (math.inf)\n",
    "        minimum_y = (math.inf)\n",
    "        \n",
    "        stroke_index = 0\n",
    "        for line in f.readlines():\n",
    "            line = line[:-1]\n",
    "            if line == '':\n",
    "                strokes.append([])\n",
    "                stroke_index += 1\n",
    "                continue\n",
    "            coords = line.split(' ')\n",
    "#transformacje związane z obróceniem tablicy w środowisku (powinno być trochę bardziej elegancko :?)\n",
    "            strokes[stroke_index].append([float(coords[0]), -float(coords[1])])\n",
    "            if (maximum_x < float(coords[0])):\n",
    "                maximum_x = float(coords[0])\n",
    "            if (maximum_y < -float(coords[1])):\n",
    "                maximum_y = -float(coords[1])\n",
    "            if (minimum_x > float(coords[0])):\n",
    "                minimum_x = float(coords[0])\n",
    "            if (minimum_y > -float(coords[1])):\n",
    "                minimum_y = -float(coords[1])\n",
    "        \n",
    "        imrange = imside - 2*padding\n",
    "        \n",
    "        range_x = maximum_x - minimum_x\n",
    "        range_y = maximum_y - minimum_y\n",
    "\n",
    "        maxrange = max(range_x , range_y)\n",
    "        if maxrange == 0:\n",
    "            normalized_strokes = [[[imside/2, imside/2]]]\n",
    "        else:\n",
    "            ratio =  min(range_x, range_y) / maxrange\n",
    "    \n",
    "            if (range_x > range_y):\n",
    "                normalized_strokes = [[[(vector[0]-minimum_x)*imrange/maxrange + padding, \n",
    "                               (vector[1]-minimum_y)*imrange/maxrange + padding + imrange*(1-ratio)/2] \n",
    "                                       for vector in stroke] for stroke in strokes]\n",
    "            else:\n",
    "                normalized_strokes = [[[(vector[0]-minimum_x)*imrange/maxrange + padding + imrange*(1-ratio)/2,\n",
    "                               (vector[1]-minimum_y)*imrange/maxrange + padding] for vector in stroke] for stroke in strokes]\n",
    "        \n",
    "        img = 255 * np.zeros([imside,imside], dtype=np.uint8)\n",
    "    \n",
    "        for normed_stroke in normalized_strokes:\n",
    "            if (len(normed_stroke) == 0):\n",
    "                continue\n",
    "            if (len(normed_stroke) == 1):\n",
    "                draw_dot(img, int(normed_stroke[0][0]), int(normed_stroke[0][1]))\n",
    "            else:    \n",
    "                path = evaluate_bezier(np.array(normed_stroke), 50)\n",
    "                px, py = path[:,0], path[:,1]\n",
    "                n = len(px)\n",
    "                for index in range(n):\n",
    "                    draw_dot(img, int(px[index]), int(py[index]))\n",
    "            \n",
    "        plt.imshow(img,cmap='Greys')\n",
    "        \n",
    "        im = Image.fromarray(img)\n",
    "        im.save(out_filename[:-4] + \".jpg\")\n",
    "    print(\"Directory \" + dirname + \" finished conversion.\")"
   ]
  },
  {
   "cell_type": "code",
   "execution_count": 51,
   "metadata": {
    "scrolled": false
   },
   "outputs": [
    {
     "data": {
      "image/png": "[encoded data removed]",
      "text/plain": [
       "<Figure size 216x216 with 1 Axes>"
      ]
     },
     "metadata": {
      "needs_background": "light"
     },
     "output_type": "display_data"
    }
   ],
   "source": [
    "class_index = 82\n",
    "\n",
    "filename = root_dir + \"/\" + str(class_index) + \"/\" + os.listdir(root_dir + str(class_index))[0]\n",
    "f = open(filename, \"r\")\n",
    "        \n",
    "strokes = []\n",
    "strokes.append([])\n",
    "maximum_x = (-math.inf)\n",
    "maximum_y = (-math.inf)\n",
    "minimum_x = (math.inf)\n",
    "minimum_y = (math.inf)\n",
    "        \n",
    "stroke_index = 0\n",
    "for line in f.readlines():\n",
    "    line = line[:-1]\n",
    "    if line == '':\n",
    "        strokes.append([])\n",
    "        stroke_index += 1\n",
    "        continue\n",
    "    coords = line.split(' ')\n",
    "#transformacje związane z obróceniem tablicy w środowisku (powinno być trochę bardziej elegancko :?)\n",
    "    strokes[stroke_index].append([float(coords[0]), -float(coords[1])])\n",
    "    if (maximum_x < float(coords[0])):\n",
    "        maximum_x = float(coords[0])\n",
    "    if (maximum_y < -float(coords[1])):\n",
    "        maximum_y = -float(coords[1])\n",
    "    if (minimum_x > float(coords[0])):\n",
    "        minimum_x = float(coords[0])\n",
    "    if (minimum_y > -float(coords[1])):\n",
    "        minimum_y = -float(coords[1])\n",
    "        \n",
    "imrange = imside - 2*padding\n",
    "    \n",
    "range_x = maximum_x - minimum_x\n",
    "range_y = maximum_y - minimum_y\n",
    "\n",
    "maxrange = max(range_x , range_y)\n",
    "if maxrange == 0:\n",
    "    normalized_strokes = [[[imside/2, imside/2]]]\n",
    "else:\n",
    "    ratio =  min(range_x, range_y) / maxrange\n",
    "    \n",
    "    if (range_x > range_y):\n",
    "        normalized_strokes = [[[(vector[0]-minimum_x)*imrange/maxrange + padding, \n",
    "                        (vector[1]-minimum_y)*imrange/maxrange + padding + imrange*(1-ratio)/2] \n",
    "                                for vector in stroke] for stroke in strokes]\n",
    "    else:\n",
    "        normalized_strokes = [[[(vector[0]-minimum_x)*imrange/maxrange + padding + imrange*(1-ratio)/2,\n",
    "                        (vector[1]-minimum_y)*imrange/maxrange + padding] for vector in stroke] for stroke in strokes]\n",
    "        \n",
    "img = 255 * np.zeros([imside,imside], dtype=np.uint8)\n",
    "img_points = 255 * np.ones([imside,imside], dtype=np.uint8)\n",
    "\n",
    "plt.figure(figsize=(3, 3))\n",
    "plt.axis(\"off\")\n",
    "\n",
    "for normed_stroke in normalized_strokes:\n",
    "    if (len(normed_stroke) == 0):\n",
    "        continue\n",
    "    if (len(normed_stroke) == 1):\n",
    "        draw_dot(img, int(normed_stroke[0][0]), int(normed_stroke[0][1]))\n",
    "        img_points[int(normed_stroke[0])][int(normed_stroke[1])] = 0\n",
    "    else:\n",
    "        for point in normed_stroke:\n",
    "            img_points[int(point[0])][int(point[1])] = 0\n",
    "        points = np.array(normed_stroke)\n",
    "        path = evaluate_bezier(points, 50)\n",
    "        x, y = points[:,0], points[:,1]\n",
    "        px, py = path[:,0], path[:,1]\n",
    "        \n",
    "        #plt.plot(py, -px, 'k-')\n",
    "        plt.plot(y, -x, 'ko')\n",
    "        \n",
    "        n = len(px)\n",
    "        for index in range(n):\n",
    "            draw_dot(img, int(px[index]), int(py[index]))\n",
    "            \n",
    "plt.show()"
   ]
  },
  {
   "cell_type": "code",
   "execution_count": 52,
   "metadata": {},
   "outputs": [
    {
     "data": {
      "text/plain": [
       "(-0.5, 27.5, 27.5, -0.5)"
      ]
     },
     "execution_count": 52,
     "metadata": {},
     "output_type": "execute_result"
    },
    {
     "data": {
      "image/png": "[encoded data removed]",
      "text/plain": [
       "<Figure size 432x288 with 1 Axes>"
      ]
     },
     "metadata": {
      "needs_background": "light"
     },
     "output_type": "display_data"
    }
   ],
   "source": [
    "plt.imshow(img_points,cmap='gray')\n",
    "plt.axis(\"off\")"
   ]
  },
  {
   "cell_type": "code",
   "execution_count": 53,
   "metadata": {},
   "outputs": [
    {
     "data": {
      "text/plain": [
       "(-0.5, 27.5, 27.5, -0.5)"
      ]
     },
     "execution_count": 53,
     "metadata": {},
     "output_type": "execute_result"
    },
    {
     "data": {
      "image/png": "[encoded data removed]",
      "text/plain": [
       "<Figure size 432x288 with 1 Axes>"
      ]
     },
     "metadata": {
      "needs_background": "light"
     },
     "output_type": "display_data"
    }
   ],
   "source": [
    "plt.imshow(img,cmap='gray')\n",
    "plt.axis(\"off\")"
   ]
  },
  {
   "cell_type": "code",
   "execution_count": null,
   "metadata": {},
   "outputs": [],
   "source": []
  }
 ],
 "metadata": {
  "kernelspec": {
   "display_name": "Python 3",
   "language": "python",
   "name": "python3"
  },
  "language_info": {
   "codemirror_mode": {
    "name": "ipython",
    "version": 3
   },
   "file_extension": ".py",
   "mimetype": "text/x-python",
   "name": "python",
   "nbconvert_exporter": "python",
   "pygments_lexer": "ipython3",
   "version": "3.8.3"
  }
 },
 "nbformat": 4,
 "nbformat_minor": 4
}
